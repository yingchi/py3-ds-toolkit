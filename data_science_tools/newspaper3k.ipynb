{
 "cells": [
  {
   "cell_type": "code",
   "execution_count": null,
   "id": "unnecessary-gilbert",
   "metadata": {
    "ExecuteTime": {
     "end_time": "2021-07-10T13:22:43.082803Z",
     "start_time": "2021-07-10T13:22:28.715292Z"
    }
   },
   "outputs": [],
   "source": [
    "pip install newspaper3k"
   ]
  },
  {
   "cell_type": "code",
   "execution_count": 3,
   "id": "bulgarian-austria",
   "metadata": {
    "ExecuteTime": {
     "end_time": "2021-07-10T13:23:21.852155Z",
     "start_time": "2021-07-10T13:23:18.996409Z"
    }
   },
   "outputs": [
    {
     "name": "stderr",
     "output_type": "stream",
     "text": [
      "[nltk_data] Downloading package punkt to /home/user/nltk_data...\n",
      "[nltk_data]   Unzipping tokenizers/punkt.zip.\n"
     ]
    },
    {
     "data": {
      "text/plain": [
       "True"
      ]
     },
     "execution_count": 3,
     "metadata": {},
     "output_type": "execute_result"
    }
   ],
   "source": [
    "from newspaper import Article\n",
    "import nltk\n",
    "nltk.download('punkt')"
   ]
  },
  {
   "cell_type": "code",
   "execution_count": 4,
   "id": "municipal-strain",
   "metadata": {
    "ExecuteTime": {
     "end_time": "2021-07-10T13:24:11.568005Z",
     "start_time": "2021-07-10T13:24:11.255995Z"
    }
   },
   "outputs": [],
   "source": [
    "url = \"https://www.dataquest.io/blog/learn-data-science/\"\n",
    "article = Article(url)\n",
    "article.download()\n",
    "article.parse()"
   ]
  },
  {
   "cell_type": "code",
   "execution_count": 6,
   "id": "roman-postage",
   "metadata": {
    "ExecuteTime": {
     "end_time": "2021-07-10T13:24:21.243417Z",
     "start_time": "2021-07-10T13:24:21.240287Z"
    }
   },
   "outputs": [
    {
     "data": {
      "text/plain": [
       "'How to Learn Data Science (A step-by-step guide)'"
      ]
     },
     "execution_count": 6,
     "metadata": {},
     "output_type": "execute_result"
    }
   ],
   "source": [
    "article.title"
   ]
  },
  {
   "cell_type": "code",
   "execution_count": 7,
   "id": "brave-sussex",
   "metadata": {
    "ExecuteTime": {
     "end_time": "2021-07-10T13:24:27.866249Z",
     "start_time": "2021-07-10T13:24:27.856273Z"
    }
   },
   "outputs": [
    {
     "data": {
      "text/plain": [
       "datetime.datetime(2020, 5, 4, 7, 1, tzinfo=tzutc())"
      ]
     },
     "execution_count": 7,
     "metadata": {},
     "output_type": "execute_result"
    }
   ],
   "source": [
    "article.publish_date"
   ]
  },
  {
   "cell_type": "code",
   "execution_count": 8,
   "id": "behind-familiar",
   "metadata": {
    "ExecuteTime": {
     "end_time": "2021-07-10T13:24:34.598082Z",
     "start_time": "2021-07-10T13:24:34.594198Z"
    }
   },
   "outputs": [
    {
     "data": {
      "text/plain": [
       "'https://www.dataquest.io/wp-content/uploads/2020/05/learn-data-science.jpg'"
      ]
     },
     "execution_count": 8,
     "metadata": {},
     "output_type": "execute_result"
    }
   ],
   "source": [
    "article.top_image"
   ]
  },
  {
   "cell_type": "code",
   "execution_count": 9,
   "id": "formed-declaration",
   "metadata": {
    "ExecuteTime": {
     "end_time": "2021-07-10T13:24:41.152427Z",
     "start_time": "2021-07-10T13:24:41.112948Z"
    }
   },
   "outputs": [],
   "source": [
    "article.nlp()"
   ]
  },
  {
   "cell_type": "code",
   "execution_count": 12,
   "id": "olympic-conditioning",
   "metadata": {
    "ExecuteTime": {
     "end_time": "2021-07-10T13:33:00.606867Z",
     "start_time": "2021-07-10T13:33:00.602999Z"
    }
   },
   "outputs": [
    {
     "data": {
      "text/plain": [
       "'How to Learn Data Science (A step-by-step guide)There’s no doubt about it: data scientists are in high demand.\\nHow to Learn Data ScienceSo how do you start to learn data science?\\nIf you want to learn data science or just pick up some data science skills, your first goal should be to learn to love data.\\nRather, consider it as a rough set of guidelines to follow as you learn data science on your own path.\\nI personally believe that anyone can learn data science if they approach it with the right frame of mind.'"
      ]
     },
     "execution_count": 12,
     "metadata": {},
     "output_type": "execute_result"
    }
   ],
   "source": [
    "article.summary"
   ]
  },
  {
   "cell_type": "code",
   "execution_count": 10,
   "id": "gentle-princeton",
   "metadata": {
    "ExecuteTime": {
     "end_time": "2021-07-10T13:24:46.465668Z",
     "start_time": "2021-07-10T13:24:46.462253Z"
    }
   },
   "outputs": [
    {
     "data": {
      "text/plain": [
       "['learn',\n",
       " 'skills',\n",
       " 'work',\n",
       " 'stepbystep',\n",
       " 'youll',\n",
       " 'guide',\n",
       " 'learning',\n",
       " 'need',\n",
       " 'science',\n",
       " 'data',\n",
       " 'youre',\n",
       " 'scientists']"
      ]
     },
     "execution_count": 10,
     "metadata": {},
     "output_type": "execute_result"
    }
   ],
   "source": [
    "article.keywords"
   ]
  },
  {
   "cell_type": "code",
   "execution_count": null,
   "id": "accompanied-strengthening",
   "metadata": {},
   "outputs": [],
   "source": []
  }
 ],
 "metadata": {
  "kernelspec": {
   "display_name": "Python 3",
   "language": "python",
   "name": "python3"
  },
  "language_info": {
   "codemirror_mode": {
    "name": "ipython",
    "version": 3
   },
   "file_extension": ".py",
   "mimetype": "text/x-python",
   "name": "python",
   "nbconvert_exporter": "python",
   "pygments_lexer": "ipython3",
   "version": "3.8.1"
  },
  "toc": {
   "base_numbering": 1,
   "nav_menu": {},
   "number_sections": true,
   "sideBar": true,
   "skip_h1_title": false,
   "title_cell": "Table of Contents",
   "title_sidebar": "Contents",
   "toc_cell": false,
   "toc_position": {},
   "toc_section_display": true,
   "toc_window_display": false
  }
 },
 "nbformat": 4,
 "nbformat_minor": 5
}
