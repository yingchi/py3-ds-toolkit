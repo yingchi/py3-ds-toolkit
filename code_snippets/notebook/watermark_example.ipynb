{
 "cells": [
  {
   "cell_type": "code",
   "execution_count": null,
   "id": "coated-cyprus",
   "metadata": {},
   "outputs": [],
   "source": [
    "pip install watermark "
   ]
  },
  {
   "cell_type": "code",
   "execution_count": null,
   "id": "emerging-party",
   "metadata": {},
   "outputs": [],
   "source": [
    "%load_ext watermark"
   ]
  },
  {
   "cell_type": "code",
   "execution_count": 12,
   "id": "enabling-applicant",
   "metadata": {
    "ExecuteTime": {
     "end_time": "2021-07-07T13:14:52.253902Z",
     "start_time": "2021-07-07T13:14:52.222631Z"
    }
   },
   "outputs": [
    {
     "name": "stdout",
     "output_type": "stream",
     "text": [
      "Last updated: 2021-07-07T08:14:52.226814-05:00\n",
      "\n",
      "Python implementation: CPython\n",
      "Python version       : 3.8.1\n",
      "IPython version      : 7.24.0\n",
      "\n",
      "Compiler    : GCC 7.5.0\n",
      "OS          : Linux\n",
      "Release     : 5.4.0-77-generic\n",
      "Machine     : x86_64\n",
      "Processor   : x86_64\n",
      "CPU cores   : 16\n",
      "Architecture: 64bit\n",
      "\n"
     ]
    }
   ],
   "source": [
    "%watermark"
   ]
  },
  {
   "cell_type": "code",
   "execution_count": 9,
   "id": "anonymous-piano",
   "metadata": {
    "ExecuteTime": {
     "end_time": "2021-07-07T13:09:37.538488Z",
     "start_time": "2021-07-07T13:09:37.086018Z"
    }
   },
   "outputs": [],
   "source": [
    "import numpy as np \n",
    "import pandas as pd \n",
    "import sklearn"
   ]
  },
  {
   "cell_type": "code",
   "execution_count": 10,
   "id": "concrete-italy",
   "metadata": {
    "ExecuteTime": {
     "end_time": "2021-07-07T13:09:37.571037Z",
     "start_time": "2021-07-07T13:09:37.539577Z"
    }
   },
   "outputs": [
    {
     "name": "stdout",
     "output_type": "stream",
     "text": [
      "json    : 2.0.9\n",
      "pandas  : 1.2.3\n",
      "autopep8: 1.5.7\n",
      "sklearn : 0.0\n",
      "numpy   : 1.21.0\n",
      "isort   : 5.8.0\n",
      "\n"
     ]
    }
   ],
   "source": [
    "%watermark --iversions # Show the versions of libraries being used"
   ]
  },
  {
   "cell_type": "code",
   "execution_count": null,
   "id": "treated-cleanup",
   "metadata": {},
   "outputs": [],
   "source": []
  }
 ],
 "metadata": {
  "kernelspec": {
   "display_name": "Python 3",
   "language": "python",
   "name": "python3"
  },
  "language_info": {
   "codemirror_mode": {
    "name": "ipython",
    "version": 3
   },
   "file_extension": ".py",
   "mimetype": "text/x-python",
   "name": "python",
   "nbconvert_exporter": "python",
   "pygments_lexer": "ipython3",
   "version": "3.8.1"
  },
  "toc": {
   "base_numbering": 1,
   "nav_menu": {},
   "number_sections": true,
   "sideBar": true,
   "skip_h1_title": false,
   "title_cell": "Table of Contents",
   "title_sidebar": "Contents",
   "toc_cell": false,
   "toc_position": {},
   "toc_section_display": true,
   "toc_window_display": false
  }
 },
 "nbformat": 4,
 "nbformat_minor": 5
}
