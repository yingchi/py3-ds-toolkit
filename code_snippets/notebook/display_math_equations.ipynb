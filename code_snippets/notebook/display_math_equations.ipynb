{
 "metadata": {
  "language_info": {
   "codemirror_mode": {
    "name": "ipython",
    "version": 3
   },
   "file_extension": ".py",
   "mimetype": "text/x-python",
   "name": "python",
   "nbconvert_exporter": "python",
   "pygments_lexer": "ipython3",
   "version": "3.8.1"
  },
  "orig_nbformat": 2,
  "kernelspec": {
   "name": "pythonjvsc74a57bd0a09dca2afe15d58e0a8e12d0967f3bf0e997b36a4eb26c84cbca546ff6ad81d4",
   "display_name": "Python 3.8.1  ('venv': venv)"
  },
  "metadata": {
   "interpreter": {
    "hash": "a09dca2afe15d58e0a8e12d0967f3bf0e997b36a4eb26c84cbca546ff6ad81d4"
   }
  }
 },
 "nbformat": 4,
 "nbformat_minor": 2,
 "cells": [
  {
   "cell_type": "code",
   "execution_count": 1,
   "metadata": {},
   "outputs": [
    {
     "output_type": "stream",
     "name": "stdout",
     "text": [
      "The equation is:\n"
     ]
    },
    {
     "output_type": "display_data",
     "data": {
      "text/plain": "<IPython.core.display.Math object>",
      "text/latex": "$\\displaystyle y= 3x+5$"
     },
     "metadata": {}
    }
   ],
   "source": [
    "from IPython.display import display, Math, Latex\n",
    "\n",
    "a = 3\n",
    "b = 5\n",
    "print(\"The equation is:\")\n",
    "display(Math(f'y= {a}x+{b}'))"
   ]
  },
  {
   "cell_type": "code",
   "execution_count": null,
   "metadata": {},
   "outputs": [],
   "source": []
  }
 ]
}