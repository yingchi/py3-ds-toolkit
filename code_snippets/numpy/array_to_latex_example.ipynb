{
 "cells": [
  {
   "cell_type": "code",
   "execution_count": null,
   "id": "serial-beatles",
   "metadata": {
    "ExecuteTime": {
     "end_time": "2021-06-23T13:01:26.090538Z",
     "start_time": "2021-06-23T13:01:20.319340Z"
    }
   },
   "outputs": [],
   "source": [
    "pip install array_to_latex"
   ]
  },
  {
   "cell_type": "code",
   "execution_count": 3,
   "id": "terminal-tower",
   "metadata": {
    "ExecuteTime": {
     "end_time": "2021-06-23T13:01:31.648086Z",
     "start_time": "2021-06-23T13:01:31.422198Z"
    }
   },
   "outputs": [
    {
     "name": "stdout",
     "output_type": "stream",
     "text": [
      "\\begin{bmatrix}\n",
      "  1.00 &  2.00 &  3.00\\\\\n",
      "  4.00 &  5.00 &  6.00\n",
      "\\end{bmatrix}\n"
     ]
    }
   ],
   "source": [
    "import numpy as np \n",
    "import array_to_latex as a2l \n",
    "\n",
    "a = np.array([[1, 2, 3], [4, 5, 6]])\n",
    "latex = a2l.to_ltx(a)\n",
    "latex"
   ]
  },
  {
   "cell_type": "markdown",
   "id": "parallel-revelation",
   "metadata": {},
   "source": [
    "\\begin{bmatrix}\n",
    "  1.00 &  2.00 &  3.00\\\\\n",
    "  4.00 &  5.00 &  6.00\n",
    "\\end{bmatrix}"
   ]
  },
  {
   "cell_type": "code",
   "execution_count": null,
   "id": "romance-louisiana",
   "metadata": {},
   "outputs": [],
   "source": []
  }
 ],
 "metadata": {
  "kernelspec": {
   "display_name": "Python 3",
   "language": "python",
   "name": "python3"
  },
  "language_info": {
   "codemirror_mode": {
    "name": "ipython",
    "version": 3
   },
   "file_extension": ".py",
   "mimetype": "text/x-python",
   "name": "python",
   "nbconvert_exporter": "python",
   "pygments_lexer": "ipython3",
   "version": "3.8.1"
  },
  "toc": {
   "base_numbering": 1,
   "nav_menu": {},
   "number_sections": true,
   "sideBar": true,
   "skip_h1_title": false,
   "title_cell": "Table of Contents",
   "title_sidebar": "Contents",
   "toc_cell": false,
   "toc_position": {},
   "toc_section_display": true,
   "toc_window_display": false
  }
 },
 "nbformat": 4,
 "nbformat_minor": 5
}
