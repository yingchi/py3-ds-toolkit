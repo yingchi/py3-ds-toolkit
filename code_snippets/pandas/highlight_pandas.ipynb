{
 "cells": [
  {
   "cell_type": "code",
   "execution_count": 3,
   "id": "therapeutic-binary",
   "metadata": {
    "ExecuteTime": {
     "end_time": "2021-06-20T16:52:56.992148Z",
     "start_time": "2021-06-20T16:52:56.734486Z"
    }
   },
   "outputs": [],
   "source": [
    "import pandas as pd "
   ]
  },
  {
   "cell_type": "code",
   "execution_count": 7,
   "id": "modern-reducing",
   "metadata": {
    "ExecuteTime": {
     "end_time": "2021-06-20T16:54:05.689246Z",
     "start_time": "2021-06-20T16:54:05.676710Z"
    }
   },
   "outputs": [],
   "source": [
    "df = pd.DataFrame({'col1': [-5, -2, 1, 4], 'col2': [2, 3, -1, 4]})"
   ]
  },
  {
   "cell_type": "code",
   "execution_count": 8,
   "id": "mighty-edwards",
   "metadata": {
    "ExecuteTime": {
     "end_time": "2021-06-20T16:54:06.012566Z",
     "start_time": "2021-06-20T16:54:06.005511Z"
    }
   },
   "outputs": [],
   "source": [
    "def highlight_number(row):\n",
    "    return [\n",
    "        'background-color: red; color: white' if cell <= 0\n",
    "        else 'background-color: green; color: white'\n",
    "        for cell in row\n",
    "    ]"
   ]
  },
  {
   "cell_type": "code",
   "execution_count": 9,
   "id": "authentic-crowd",
   "metadata": {
    "ExecuteTime": {
     "end_time": "2021-06-20T16:54:06.443918Z",
     "start_time": "2021-06-20T16:54:06.419712Z"
    }
   },
   "outputs": [
    {
     "data": {
      "text/html": [
       "<style  type=\"text/css\" >\n",
       "#T_dd7e2_row0_col0,#T_dd7e2_row1_col0,#T_dd7e2_row2_col1{\n",
       "            background-color:  red;\n",
       "             color:  white;\n",
       "        }#T_dd7e2_row0_col1,#T_dd7e2_row1_col1,#T_dd7e2_row2_col0,#T_dd7e2_row3_col0,#T_dd7e2_row3_col1{\n",
       "            background-color:  green;\n",
       "             color:  white;\n",
       "        }</style><table id=\"T_dd7e2_\" ><thead>    <tr>        <th class=\"blank level0\" ></th>        <th class=\"col_heading level0 col0\" >col1</th>        <th class=\"col_heading level0 col1\" >col2</th>    </tr></thead><tbody>\n",
       "                <tr>\n",
       "                        <th id=\"T_dd7e2_level0_row0\" class=\"row_heading level0 row0\" >0</th>\n",
       "                        <td id=\"T_dd7e2_row0_col0\" class=\"data row0 col0\" >-5</td>\n",
       "                        <td id=\"T_dd7e2_row0_col1\" class=\"data row0 col1\" >2</td>\n",
       "            </tr>\n",
       "            <tr>\n",
       "                        <th id=\"T_dd7e2_level0_row1\" class=\"row_heading level0 row1\" >1</th>\n",
       "                        <td id=\"T_dd7e2_row1_col0\" class=\"data row1 col0\" >-2</td>\n",
       "                        <td id=\"T_dd7e2_row1_col1\" class=\"data row1 col1\" >3</td>\n",
       "            </tr>\n",
       "            <tr>\n",
       "                        <th id=\"T_dd7e2_level0_row2\" class=\"row_heading level0 row2\" >2</th>\n",
       "                        <td id=\"T_dd7e2_row2_col0\" class=\"data row2 col0\" >1</td>\n",
       "                        <td id=\"T_dd7e2_row2_col1\" class=\"data row2 col1\" >-1</td>\n",
       "            </tr>\n",
       "            <tr>\n",
       "                        <th id=\"T_dd7e2_level0_row3\" class=\"row_heading level0 row3\" >3</th>\n",
       "                        <td id=\"T_dd7e2_row3_col0\" class=\"data row3 col0\" >4</td>\n",
       "                        <td id=\"T_dd7e2_row3_col1\" class=\"data row3 col1\" >4</td>\n",
       "            </tr>\n",
       "    </tbody></table>"
      ],
      "text/plain": [
       "<pandas.io.formats.style.Styler at 0x7fb03c6bb9d0>"
      ]
     },
     "execution_count": 9,
     "metadata": {},
     "output_type": "execute_result"
    }
   ],
   "source": [
    "df.style.apply(highlight_number)"
   ]
  },
  {
   "cell_type": "code",
   "execution_count": null,
   "id": "durable-speed",
   "metadata": {},
   "outputs": [],
   "source": []
  }
 ],
 "metadata": {
  "kernelspec": {
   "display_name": "Python 3",
   "language": "python",
   "name": "python3"
  },
  "language_info": {
   "codemirror_mode": {
    "name": "ipython",
    "version": 3
   },
   "file_extension": ".py",
   "mimetype": "text/x-python",
   "name": "python",
   "nbconvert_exporter": "python",
   "pygments_lexer": "ipython3",
   "version": "3.8.1"
  },
  "toc": {
   "base_numbering": 1,
   "nav_menu": {},
   "number_sections": true,
   "sideBar": true,
   "skip_h1_title": false,
   "title_cell": "Table of Contents",
   "title_sidebar": "Contents",
   "toc_cell": false,
   "toc_position": {},
   "toc_section_display": true,
   "toc_window_display": false
  }
 },
 "nbformat": 4,
 "nbformat_minor": 5
}
